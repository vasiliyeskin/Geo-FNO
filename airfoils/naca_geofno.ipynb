{
  "nbformat": 4,
  "nbformat_minor": 0,
  "metadata": {
    "colab": {
      "provenance": [],
      "authorship_tag": "ABX9TyNoj6nNh3Om28ZlC+bR/cYy",
      "include_colab_link": true
    },
    "kernelspec": {
      "name": "python3",
      "display_name": "Python 3"
    },
    "language_info": {
      "name": "python"
    },
    "accelerator": "GPU",
    "gpuClass": "standard"
  },
  "cells": [
    {
      "cell_type": "markdown",
      "metadata": {
        "id": "view-in-github",
        "colab_type": "text"
      },
      "source": [
        "<a href=\"https://colab.research.google.com/github/vasiliyeskin/Geo-FNO/blob/veskin/airfoils/naca_geofno.ipynb\" target=\"_parent\"><img src=\"https://colab.research.google.com/assets/colab-badge.svg\" alt=\"Open In Colab\"/></a>"
      ]
    },
    {
      "cell_type": "markdown",
      "source": [
        "# [Geo-FNO](https://github.com/zongyi-li/Geo-FNO) test on colab\n"
      ],
      "metadata": {
        "id": "iynOrXhKEIYt"
      }
    },
    {
      "cell_type": "code",
      "execution_count": 11,
      "metadata": {
        "id": "mKtba3FSD91Z",
        "colab": {
          "base_uri": "https://localhost:8080/"
        },
        "outputId": "bf01a84b-10ba-40bf-db4c-8fcd3fc47973"
      },
      "outputs": [
        {
          "output_type": "stream",
          "name": "stdout",
          "text": [
            "Retrieving folder list\n",
            "Retrieving folder 1_pGrwS6rwzhyaCXS6MEmmPKWFXNeRnhj airfoil\n",
            "Retrieving folder 1JUkPbx0-lgjFHPURH_kp1uqjfRn3aw9- naca\n",
            "Processing file 1AjW0t0YolY680J6xTQJ_g5bqTSJAZDZc NACA_Cylinder_Q.npy\n",
            "Processing file 16EY0obqsccypaDFVY0wlsXX73SlD5TMy NACA_Cylinder_X.npy\n",
            "Processing file 1rJUPtIhTAsG8TQnqV5mljjgQlyz0NJvJ NACA_Cylinder_Y.npy\n",
            "Processing file 1fvpJlBC5uJsSU1_4onOnqDTN9AqpqEt4 NACA_Q.npy\n",
            "Processing file 1XDQI1cz4RM7Jn5U3K1VKohuhbzWGo-rI NACA_res.npy\n",
            "Processing file 15CwwHR7bkozJZu7xej-gUSbHw2oBRBLg NACA_theta.npy\n",
            "Processing file 1DJPYpf0LGkXh6e3dRZ71aRYxDFLRGSPJ NACA_Visual.ipynb\n",
            "Processing file 1v3mlFVQ7MJhq9Ykm5S4tksbBUuHo1xx9 NACA_X.npy\n",
            "Processing file 1WcFD-mHNeey89oSWY1h7dxvc0mgJmPl_ NACA_Y.npy\n",
            "Retrieving folder 1VKJB6HD8MmCUpWrjxSW-_n_uUYcReoO5 naca_interp\n",
            "Processing file 1GN1uYXJkppoTt1jBIsnsZriaAfxXCyx3 NACA_mask_interp.npy\n",
            "Processing file 15o-V7b3wigrfDeH-7cxquUVDW62tfyFq NACA_Q_interp.npy\n",
            "Processing file 11Vlu80r55GaeHCm98u0STzsWVrK_SNHj NACA_X_interp.npy\n",
            "Processing file 1IAziNl-MHnMWeeNJ8wtfd-DotHBu2eqy NACA_Y_interp.npy\n",
            "Retrieving folder 1cznHmQO-hB_VlWOfh7IFpjsPVOYyghGJ elasticity\n",
            "Retrieving folder 1WyFhv1iI02G0O7Mhjz0w1g0btyEmi2QO Interp\n",
            "Processing file 1amFPZtoL1VNal1KV3NlhrvFXJ9bfknRt Random_UnitCell_mask_10_interp.npy\n",
            "Processing file 1P0ZJKkD__F3d8cWwXLjMDJCJ_3BM239F Random_UnitCell_rr_10_interp.npy\n",
            "Processing file 1-Wh5DQ2GzMHLMFTg5C4S7wiaGvw6vkox Random_UnitCell_sigma_10_interp.npy\n",
            "Retrieving folder 1f9i6eOHfjULfVbd2FbUHHjqcL6CPJxbb Meshes\n",
            "Processing file 1Pjliqhxegoe5VpoLrpBa9n3P4gX9MfTt Random_UnitCell_rr_10.npy\n",
            "Processing file 1Ia5izgUum-IQLdO6PW70HO8AdAqA_IVb Random_UnitCell_sigma_10.npy\n",
            "Processing file 18MsdeVVrmQacARYzWg8mXqEOFBTrhCVd Random_UnitCell_theta_10.npy\n",
            "Processing file 1I-fO-RsFvD3nqBuFrg67R0yqTFdD_gpA Random_UnitCell_XY_10.npy\n",
            "Retrieving folder 1LCkYwTyT_6PYQqGEde-MWjAENwYRZ2Ah Omesh\n",
            "Processing file 1HT3HbZ0FFU0yTkvFf-f3wUVLCcSuuAKk Random_UnitCell_Deform_sigma_10_interp.npy\n",
            "Processing file 1Aa66QdkA5IFP08EblpDIAXIDe77ab2Li Random_UnitCell_Deform_X_10_interp.npy\n",
            "Processing file 1QPze2_-09-4LBAWMaF-uSGTYNfZ2iuW1 Random_UnitCell_Deform_Y_10_interp.npy\n",
            "Retrieving folder 176eocLKPs6VYhjYbLWHg_ApHQgIO5b5d Rmesh\n",
            "Processing file 1yj7PxQVhqOkDc8i33Dfqw44odATRM8cq Random_UnitCell_Deform_Grid_mask_10_interp.npy\n",
            "Processing file 1AAcY1XYWzfAM2_KoI9K7EAT1pWNzJaD- Random_UnitCell_Deform_Grid_sigma_10_interp.npy\n",
            "Processing file 16e0ZJGYLAxZCtJ3qKL6goXDoj1LmOzbT Random_UnitCell_Deform_Grid_X_10_interp.npy\n",
            "Processing file 1YztG5uEjwbq9t7yz9xv3Al_IjSYsFQL0 Random_UnitCell_Deform_Grid_XY_10_interp.npy\n",
            "Processing file 1jRI_lAEv0wf9DIvamTjzFMPl-bJQIq87 Random_UnitCell_Deform_Grid_Y_10_interp.npy\n",
            "Retrieving folder 1iOgLyfqGtXuZ25KHsDWIh_ZJAfO_HxMO pipe\n",
            "Processing file 1H5ML7KDkVnHUGtVvfYkfgl-5crgxEOsX Mesh.pdf\n",
            "Processing file 1FXVGffgmxKUUEoTAubnzfS-92KccVd7F Pipe_Q_interp_x.npy\n",
            "Processing file 1Yj1EOYwCYBhlURISNHqvE3atVLDS_Jmp Pipe_Q.npy\n",
            "Processing file 1NOp3c2NOd1V50oKZrAf91p_YLzjyD8Vj Pipe_res.npy\n",
            "Processing file 1nbw1mwgZlpojtsFL4JJeJbEyIeHJ3oN6 Pipe_Visual.ipynb\n",
            "Processing file 1_FS-9Z1eZ3BmlDvANB7Y4-auwxwNnhnY Pipe_X.npy\n",
            "Processing file 1ZjB4kEauqViMmz18ZfVaMpiuFhgZtRDX Pipe_Y.npy\n",
            "Processing file 1BtTrDy33bGt8e39PesPLhDyH1yfJGcFz Pipe.pdf\n",
            "Retrieving folder 1lo7n8dWtpcVhhaEpQavh9UoSkMOs1UdC plasticity\n",
            "Processing file 14CPGK_ljae5c6dm2nRraY2kIDt39JX3d plas_N987_T20.mat\n",
            "Retrieving folder list completed\n",
            "Building directory structure\n",
            "Building directory structure completed\n",
            "Access denied with the following error:\n",
            "\n",
            " \tCannot retrieve the public link of the file. You may need to change\n",
            "\tthe permission to 'Anyone with the link', or have had many accesses. \n",
            "\n",
            "You may still be able to access the file from the browser:\n",
            "\n",
            "\t https://drive.google.com/uc?id=1AjW0t0YolY680J6xTQJ_g5bqTSJAZDZc \n",
            "\n",
            "Download ended unsuccessfully\n"
          ]
        }
      ],
      "source": [
        "!gdown https://drive.google.com/drive/folders/1YBuaoTdOSr_qzaow-G-iwvbUI7fiUzu8?usp=sharing -O /tmp/folder --folder"
      ]
    },
    {
      "cell_type": "code",
      "source": [
        "!git clone https://github.com/vasiliyeskin/Geo-FNO.git"
      ],
      "metadata": {
        "id": "hvEV6tuXQa6n",
        "colab": {
          "base_uri": "https://localhost:8080/"
        },
        "outputId": "bfac8cf2-ae0e-467e-c170-2cdea10d1ae8"
      },
      "execution_count": 2,
      "outputs": [
        {
          "output_type": "stream",
          "name": "stdout",
          "text": [
            "Cloning into 'Geo-FNO'...\n",
            "remote: Enumerating objects: 92, done.\u001b[K\n",
            "remote: Counting objects: 100% (92/92), done.\u001b[K\n",
            "remote: Compressing objects: 100% (71/71), done.\u001b[K\n",
            "remote: Total 92 (delta 30), reused 70 (delta 19), pack-reused 0\u001b[K\n",
            "Unpacking objects: 100% (92/92), done.\n"
          ]
        }
      ]
    },
    {
      "cell_type": "code",
      "source": [
        "%cd Geo-FNO/"
      ],
      "metadata": {
        "id": "UEqrWT64QfVp",
        "outputId": "e0acbfca-f581-4334-ab7b-fc702a955ada",
        "colab": {
          "base_uri": "https://localhost:8080/"
        }
      },
      "execution_count": 12,
      "outputs": [
        {
          "output_type": "stream",
          "name": "stdout",
          "text": [
            "[Errno 2] No such file or directory: 'Geo-FNO/'\n",
            "/content/Geo-FNO\n"
          ]
        }
      ]
    },
    {
      "cell_type": "code",
      "source": [
        "!ls"
      ],
      "metadata": {
        "id": "X5OMAsXlQ1up",
        "outputId": "e914d928-cf19-42b2-b74b-c7cc06e0cc0f",
        "colab": {
          "base_uri": "https://localhost:8080/"
        }
      },
      "execution_count": 13,
      "outputs": [
        {
          "output_type": "stream",
          "name": "stdout",
          "text": [
            "Adam.py   elasticity   LICENSE\tplasticity   readme.md\n",
            "airfoils  FluidSolver  pipe\t__pycache__  utilities3.py\n"
          ]
        }
      ]
    },
    {
      "cell_type": "code",
      "source": [
        "import torch.nn.functional as F\n",
        "import matplotlib.pyplot as plt\n",
        "from timeit import default_timer\n",
        "from utilities3 import *\n",
        "from Adam import Adam\n",
        "\n",
        "torch.manual_seed(0)\n",
        "np.random.seed(0)\n",
        "torch.cuda.manual_seed(0)\n",
        "torch.backends.cudnn.deterministic = True"
      ],
      "metadata": {
        "id": "urudIpUPQLNi"
      },
      "execution_count": 14,
      "outputs": []
    },
    {
      "cell_type": "markdown",
      "source": [
        "#**fourier layer**"
      ],
      "metadata": {
        "id": "M1v2FZSrSYEn"
      }
    },
    {
      "cell_type": "code",
      "source": [
        "class SpectralConv2d(nn.Module):\n",
        "    def __init__(self, in_channels, out_channels, modes1, modes2):\n",
        "        super(SpectralConv2d, self).__init__()\n",
        "\n",
        "        \"\"\"\n",
        "        2D Fourier layer. It does FFT, linear transform, and Inverse FFT.    \n",
        "        \"\"\"\n",
        "\n",
        "        self.in_channels = in_channels\n",
        "        self.out_channels = out_channels\n",
        "        self.modes1 = modes1  # Number of Fourier modes to multiply, at most floor(N/2) + 1\n",
        "        self.modes2 = modes2\n",
        "\n",
        "        self.scale = (1 / (in_channels * out_channels))\n",
        "        self.weights1 = nn.Parameter(\n",
        "            self.scale * torch.rand(in_channels, out_channels, self.modes1, self.modes2, dtype=torch.cfloat))\n",
        "        self.weights2 = nn.Parameter(\n",
        "            self.scale * torch.rand(in_channels, out_channels, self.modes1, self.modes2, dtype=torch.cfloat))\n",
        "\n",
        "    # Complex multiplication\n",
        "    def compl_mul2d(self, input, weights):\n",
        "        # (batch, in_channel, x,y ), (in_channel, out_channel, x,y) -> (batch, out_channel, x,y)\n",
        "        return torch.einsum(\"bixy,ioxy->boxy\", input, weights)\n",
        "\n",
        "    def forward(self, x):\n",
        "        batchsize = x.shape[0]\n",
        "        # Compute Fourier coeffcients up to factor of e^(- something constant)\n",
        "        x_ft = torch.fft.rfft2(x)\n",
        "\n",
        "        # Multiply relevant Fourier modes\n",
        "        out_ft = torch.zeros(batchsize, self.out_channels, x.size(-2), x.size(-1) // 2 + 1, dtype=torch.cfloat,\n",
        "                             device=x.device)\n",
        "        out_ft[:, :, :self.modes1, :self.modes2] = \\\n",
        "            self.compl_mul2d(x_ft[:, :, :self.modes1, :self.modes2], self.weights1)\n",
        "        out_ft[:, :, -self.modes1:, :self.modes2] = \\\n",
        "            self.compl_mul2d(x_ft[:, :, -self.modes1:, :self.modes2], self.weights2)\n",
        "\n",
        "        # Return to physical space\n",
        "        x = torch.fft.irfft2(out_ft, s=(x.size(-2), x.size(-1)))\n",
        "        return x"
      ],
      "metadata": {
        "id": "YKyEQ9hISZho"
      },
      "execution_count": 15,
      "outputs": []
    },
    {
      "cell_type": "code",
      "source": [
        "class FNO2d(nn.Module):\n",
        "    def __init__(self, modes1, modes2, width):\n",
        "        super(FNO2d, self).__init__()\n",
        "\n",
        "        \"\"\"\n",
        "        The overall network. It contains 4 layers of the Fourier layer.\n",
        "        1. Lift the input to the desire channel dimension by self.fc0 .\n",
        "        2. 4 layers of the integral operators u' = (W + K)(u).\n",
        "            W defined by self.w; K defined by self.conv .\n",
        "        3. Project from the channel space to the output space by self.fc1 and self.fc2 .\n",
        "        input: the solution of the coefficient function and locations (a(x, y), x, y)\n",
        "        input shape: (batchsize, x=s, y=s, c=3)\n",
        "        output: the solution \n",
        "        output shape: (batchsize, x=s, y=s, c=1)\n",
        "        \"\"\"\n",
        "\n",
        "        self.modes1 = modes1\n",
        "        self.modes2 = modes2\n",
        "        self.width = width\n",
        "        self.padding = 8  # pad the domain if input is non-periodic\n",
        "        self.fc0 = nn.Linear(4, self.width)  # input channel is 3: (a(x, y), x, y)\n",
        "\n",
        "        self.conv0 = SpectralConv2d(self.width, self.width, self.modes1, self.modes2)\n",
        "        self.conv1 = SpectralConv2d(self.width, self.width, self.modes1, self.modes2)\n",
        "        self.conv2 = SpectralConv2d(self.width, self.width, self.modes1, self.modes2)\n",
        "        self.conv3 = SpectralConv2d(self.width, self.width, self.modes1, self.modes2)\n",
        "        self.w0 = nn.Conv2d(self.width, self.width, 1)\n",
        "        self.w1 = nn.Conv2d(self.width, self.width, 1)\n",
        "        self.w2 = nn.Conv2d(self.width, self.width, 1)\n",
        "        self.w3 = nn.Conv2d(self.width, self.width, 1)\n",
        "\n",
        "        self.fc1 = nn.Linear(self.width, 128)\n",
        "        self.fc2 = nn.Linear(128, 1)\n",
        "\n",
        "    def forward(self, x):\n",
        "        grid = self.get_grid(x.shape, x.device)\n",
        "        x = torch.cat((x, grid), dim=-1)\n",
        "        x = self.fc0(x)\n",
        "        x = x.permute(0, 3, 1, 2)\n",
        "\n",
        "        x = F.pad(x, [0, self.padding, 0, self.padding])\n",
        "\n",
        "        x1 = self.conv0(x)\n",
        "        x2 = self.w0(x)\n",
        "        x = x1 + x2\n",
        "        x = F.gelu(x)\n",
        "\n",
        "        x1 = self.conv1(x)\n",
        "        x2 = self.w1(x)\n",
        "        x = x1 + x2\n",
        "        x = F.gelu(x)\n",
        "\n",
        "        x1 = self.conv2(x)\n",
        "        x2 = self.w2(x)\n",
        "        x = x1 + x2\n",
        "        x = F.gelu(x)\n",
        "\n",
        "        x1 = self.conv3(x)\n",
        "        x2 = self.w3(x)\n",
        "        x = x1 + x2\n",
        "\n",
        "        x = x[..., :-self.padding, :-self.padding]\n",
        "        x = x.permute(0, 2, 3, 1)\n",
        "        x = self.fc1(x)\n",
        "        x = F.gelu(x)\n",
        "        x = self.fc2(x)\n",
        "        return x\n",
        "\n",
        "    def get_grid(self, shape, device):\n",
        "        batchsize, size_x, size_y = shape[0], shape[1], shape[2]\n",
        "        gridx = torch.tensor(np.linspace(0, 1, size_x), dtype=torch.float)\n",
        "        gridx = gridx.reshape(1, size_x, 1, 1).repeat([batchsize, 1, size_y, 1])\n",
        "        gridy = torch.tensor(np.linspace(0, 1, size_y), dtype=torch.float)\n",
        "        gridy = gridy.reshape(1, 1, size_y, 1).repeat([batchsize, size_x, 1, 1])\n",
        "        return torch.cat((gridx, gridy), dim=-1).to(device)"
      ],
      "metadata": {
        "id": "u54-h20jShp4"
      },
      "execution_count": 16,
      "outputs": []
    },
    {
      "cell_type": "markdown",
      "source": [
        "# **configs**"
      ],
      "metadata": {
        "id": "PUT-NE-FSrBb"
      }
    },
    {
      "cell_type": "code",
      "source": [
        "PATH = \"/tmp/folder/airfoil/naca/\"\n",
        "PATH = \"/tmp/folder/\"\n",
        "INPUT_X = PATH+'NACA_Cylinder_X.npy'\n",
        "INPUT_Y = PATH+'NACA_Cylinder_Y.npy'\n",
        "OUTPUT_Sigma = PATH+'NACA_Cylinder_Q.npy'\n",
        "\n",
        "ntrain = 1000\n",
        "ntest = 200\n",
        "\n",
        "batch_size = 20\n",
        "learning_rate = 0.001\n",
        "\n",
        "epochs = 501\n",
        "step_size = 100\n",
        "gamma = 0.5\n",
        "\n",
        "modes = 12\n",
        "width = 32\n",
        "\n",
        "r1 = 1\n",
        "r2 = 1\n",
        "s1 = int(((221 - 1) / r1) + 1)\n",
        "s2 = int(((51 - 1) / r2) + 1)"
      ],
      "metadata": {
        "id": "QY-fEYHSStlw"
      },
      "execution_count": 17,
      "outputs": []
    },
    {
      "cell_type": "markdown",
      "source": [
        "#**load data and data normalization**"
      ],
      "metadata": {
        "id": "SEr__as6TBlG"
      }
    },
    {
      "cell_type": "code",
      "source": [
        "inputX = np.load(INPUT_X)\n",
        "inputX = torch.tensor(inputX, dtype=torch.float)\n",
        "inputY = np.load(INPUT_Y)\n",
        "inputY = torch.tensor(inputY, dtype=torch.float)\n",
        "input = torch.stack([inputX, inputY], dim=-1)\n",
        "\n",
        "output = np.load(OUTPUT_Sigma)[:, 4]\n",
        "output = torch.tensor(output, dtype=torch.float)\n",
        "print(input.shape, output.shape)\n",
        "\n",
        "x_train = input[:ntrain, ::r1, ::r2][:, :s1, :s2]\n",
        "y_train = output[:ntrain, ::r1, ::r2][:, :s1, :s2]\n",
        "x_test = input[ntrain:ntrain+ntest, ::r1, ::r2][:, :s1, :s2]\n",
        "y_test = output[ntrain:ntrain+ntest, ::r1, ::r2][:, :s1, :s2]\n",
        "x_train = x_train.reshape(ntrain, s1, s2, 2)\n",
        "x_test = x_test.reshape(ntest, s1, s2, 2)\n",
        "\n",
        "train_loader = torch.utils.data.DataLoader(torch.utils.data.TensorDataset(x_train, y_train), \n",
        "                                           batch_size=batch_size,\n",
        "                                           shuffle=True)\n",
        "test_loader = torch.utils.data.DataLoader(torch.utils.data.TensorDataset(x_test, y_test), \n",
        "                                          batch_size=batch_size,\n",
        "                                          shuffle=False)\n",
        "test_loader2 = torch.utils.data.DataLoader(torch.utils.data.TensorDataset(x_test, y_test), \n",
        "                                           batch_size=1,\n",
        "                                          shuffle=False)"
      ],
      "metadata": {
        "colab": {
          "base_uri": "https://localhost:8080/"
        },
        "id": "nDg8dAohTBJ3",
        "outputId": "73a8ef83-6e81-4ecf-9d58-b55b632242f4"
      },
      "execution_count": 18,
      "outputs": [
        {
          "output_type": "stream",
          "name": "stdout",
          "text": [
            "torch.Size([2490, 221, 51, 2]) torch.Size([2490, 221, 51])\n"
          ]
        }
      ]
    },
    {
      "cell_type": "markdown",
      "source": [
        "#**training and evaluation**"
      ],
      "metadata": {
        "id": "2ncDOd9XTRfI"
      }
    },
    {
      "cell_type": "code",
      "source": [
        "model = FNO2d(modes*2, modes, width).cuda()\n",
        "print(count_params(model))\n",
        "\n",
        "optimizer = Adam(model.parameters(), lr=learning_rate, weight_decay=1e-4)\n",
        "scheduler = torch.optim.lr_scheduler.StepLR(optimizer, step_size=step_size, gamma=gamma)\n",
        "\n",
        "myloss = LpLoss(size_average=False)\n",
        "\n",
        "for ep in range(epochs):\n",
        "    model.train()\n",
        "    t1 = default_timer()\n",
        "    train_l2 = 0\n",
        "    for x, y in train_loader:\n",
        "        x, y = x.cuda(), y.cuda()\n",
        "\n",
        "        optimizer.zero_grad()\n",
        "        out = model(x)\n",
        "\n",
        "        loss = myloss(out.view(batch_size, -1), y.view(batch_size, -1))\n",
        "        loss.backward()\n",
        "\n",
        "        optimizer.step()\n",
        "        train_l2 += loss.item()\n",
        "\n",
        "    scheduler.step()\n",
        "\n",
        "    model.eval()\n",
        "    test_l2 = 0.0\n",
        "    with torch.no_grad():\n",
        "        for x, y in test_loader:\n",
        "            x, y = x.cuda(), y.cuda()\n",
        "\n",
        "            out = model(x)\n",
        "            test_l2 += myloss(out.view(batch_size, -1), y.view(batch_size, -1)).item()\n",
        "\n",
        "    train_l2 /= ntrain\n",
        "    test_l2 /= ntest\n",
        "\n",
        "    t2 = default_timer()\n",
        "    print(ep, t2 - t1, train_l2, test_l2)\n",
        "\n",
        "    # plot\n",
        "    if ep%step_size==0:\n",
        "        # torch.save(model, '../model/naca_plain_model_'+str(ep))\n",
        "\n",
        "        ind = -1\n",
        "        X = x[ind, :, :, 0].squeeze().detach().cpu().numpy()\n",
        "        Y = x[ind, :, :, 1].squeeze().detach().cpu().numpy()\n",
        "        truth = y[ind].squeeze().detach().cpu().numpy()\n",
        "        pred = out[ind].squeeze().detach().cpu().numpy()\n",
        "        nx = 40//r1\n",
        "        ny = 20//r2\n",
        "        X_small = X[nx:-nx, :ny]\n",
        "        Y_small = Y[nx:-nx, :ny]\n",
        "        truth_small = truth[nx:-nx, :ny]\n",
        "        pred_small = pred[nx:-nx, :ny]\n",
        "\n",
        "        fig, ax = plt.subplots(nrows=3, ncols=2,  figsize=(16, 16))\n",
        "        ax[0,0].pcolormesh(X, Y, truth, shading='gouraud')\n",
        "        ax[1,0].pcolormesh(X, Y, pred, shading='gouraud')\n",
        "        ax[2,0].pcolormesh(X, Y, pred-truth, shading='gouraud')\n",
        "        ax[0,1].pcolormesh(X_small, Y_small, truth_small, shading='gouraud')\n",
        "        ax[1,1].pcolormesh(X_small, Y_small, pred_small, shading='gouraud')\n",
        "        ax[2,1].pcolormesh(X_small, Y_small, np.abs(pred_small-truth_small), shading='gouraud')\n",
        "        fig.show()\n",
        "        plt.show()"
      ],
      "metadata": {
        "colab": {
          "base_uri": "https://localhost:8080/"
        },
        "id": "43iWx2IeTUkp",
        "outputId": "c7792d20-fdf7-40d0-a70b-f5eefc685985"
      },
      "execution_count": null,
      "outputs": [
        {
          "output_type": "stream",
          "name": "stdout",
          "text": [
            "4 5.745824484999957 0.1007081845998764 0.10327617228031158\n",
            "5 5.773768438999923 0.10051493763923645 0.10349698960781098\n",
            "6 5.761294745000214 0.10071206593513489 0.10371728420257569\n",
            "7 5.7331156459999875 0.10083958280086518 0.10420412480831147\n",
            "8 5.705957030000263 0.10070149314403534 0.10475550234317779\n"
          ]
        }
      ]
    },
    {
      "cell_type": "code",
      "source": [],
      "metadata": {
        "id": "ChCXCzm8VzI0"
      },
      "execution_count": null,
      "outputs": []
    }
  ]
}