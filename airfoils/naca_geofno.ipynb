{
  "nbformat": 4,
  "nbformat_minor": 0,
  "metadata": {
    "colab": {
      "provenance": [],
      "authorship_tag": "ABX9TyNspKP2wdNnxzEQg2pSW8WO",
      "include_colab_link": true
    },
    "kernelspec": {
      "name": "python3",
      "display_name": "Python 3"
    },
    "language_info": {
      "name": "python"
    }
  },
  "cells": [
    {
      "cell_type": "markdown",
      "metadata": {
        "id": "view-in-github",
        "colab_type": "text"
      },
      "source": [
        "<a href=\"https://colab.research.google.com/github/vasiliyeskin/Geo-FNO/blob/veskin/airfoils/naca_geofno.ipynb\" target=\"_parent\"><img src=\"https://colab.research.google.com/assets/colab-badge.svg\" alt=\"Open In Colab\"/></a>"
      ]
    },
    {
      "cell_type": "markdown",
      "source": [
        "# [Geo-FNO](https://github.com/zongyi-li/Geo-FNO) test on colab\n"
      ],
      "metadata": {
        "id": "iynOrXhKEIYt"
      }
    },
    {
      "cell_type": "code",
      "execution_count": null,
      "metadata": {
        "id": "mKtba3FSD91Z"
      },
      "outputs": [],
      "source": [
        "!gdown https://drive.google.com/drive/folders/1YBuaoTdOSr_qzaow-G-iwvbUI7fiUzu8?usp=sharing -O /tmp/folder --folder"
      ]
    },
    {
      "cell_type": "code",
      "source": [
        "!git clone https://github.com/vasiliyeskin/Geo-FNO.git"
      ],
      "metadata": {
        "id": "hvEV6tuXQa6n"
      },
      "execution_count": null,
      "outputs": []
    },
    {
      "cell_type": "code",
      "source": [
        "%cd Geo-FNO/"
      ],
      "metadata": {
        "id": "UEqrWT64QfVp",
        "outputId": "b06c7fd4-b0c9-4110-d312-f24c6a6cfe60",
        "colab": {
          "base_uri": "https://localhost:8080/"
        }
      },
      "execution_count": 8,
      "outputs": [
        {
          "output_type": "stream",
          "name": "stdout",
          "text": [
            "/content/Geo-FNO\n"
          ]
        }
      ]
    },
    {
      "cell_type": "code",
      "source": [
        "!ls"
      ],
      "metadata": {
        "id": "X5OMAsXlQ1up",
        "outputId": "db43a8d1-550f-4779-b5c3-2e6b38b4c6c8",
        "colab": {
          "base_uri": "https://localhost:8080/"
        }
      },
      "execution_count": 9,
      "outputs": [
        {
          "output_type": "stream",
          "name": "stdout",
          "text": [
            "Adam.py   elasticity   LICENSE\tplasticity  utilities3.py\n",
            "airfoils  FluidSolver  pipe\treadme.md\n"
          ]
        }
      ]
    },
    {
      "cell_type": "code",
      "source": [
        "import torch.nn.functional as F\n",
        "import matplotlib.pyplot as plt\n",
        "from timeit import default_timer\n",
        "from utilities3 import *\n",
        "from Adam import Adam\n",
        "\n",
        "torch.manual_seed(0)\n",
        "np.random.seed(0)\n",
        "torch.cuda.manual_seed(0)\n",
        "torch.backends.cudnn.deterministic = True"
      ],
      "metadata": {
        "id": "urudIpUPQLNi"
      },
      "execution_count": 10,
      "outputs": []
    }
  ]
}